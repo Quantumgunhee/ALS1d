{
 "cells": [
  {
   "cell_type": "code",
   "execution_count": 1,
   "metadata": {},
   "outputs": [],
   "source": [
    "import numpy as np\n",
    "import quimb.tensor as qtn\n",
    "from ALS1d import mps_gate_with_mpo_als1dfit\n",
    "from quimb.experimental.tensor_1d_mpo_gate_methods import mps_gate_with_mpo_zipup"
   ]
  },
  {
   "cell_type": "code",
   "execution_count": 2,
   "metadata": {},
   "outputs": [],
   "source": [
    "L = 20\n",
    "chi = 32\n",
    "mps = qtn.MPS_rand_state(L=L, bond_dim=chi)\n",
    "mpo = qtn.MPO_rand(L=L, bond_dim=chi)"
   ]
  },
  {
   "cell_type": "code",
   "execution_count": 3,
   "metadata": {},
   "outputs": [
    {
     "name": "stdout",
     "output_type": "stream",
     "text": [
      "0.3093643685193158\n",
      "0.7615304693935891\n"
     ]
    }
   ],
   "source": [
    "out = mpo.apply(mps, compress=True, max_bond=chi)\n",
    "out.normalize()\n",
    "\n",
    "init_guess = mps_gate_with_mpo_zipup(mps, mpo, max_bond=chi)\n",
    "init_guess.normalize()\n",
    "ov = init_guess.conj() @ out\n",
    "print(ov)\n",
    "out2 = mps_gate_with_mpo_als1dfit(mps, mpo, max_bond=chi, init_guess=init_guess, verbosity=0)\n",
    "ov = out2.conj() @ out\n",
    "print(ov)"
   ]
  }
 ],
 "metadata": {
  "kernelspec": {
   "display_name": "base",
   "language": "python",
   "name": "python3"
  },
  "language_info": {
   "codemirror_mode": {
    "name": "ipython",
    "version": 3
   },
   "file_extension": ".py",
   "mimetype": "text/x-python",
   "name": "python",
   "nbconvert_exporter": "python",
   "pygments_lexer": "ipython3",
   "version": "3.9.16"
  },
  "orig_nbformat": 4
 },
 "nbformat": 4,
 "nbformat_minor": 2
}
